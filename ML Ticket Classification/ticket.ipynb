{
 "cells": [
  {
   "cell_type": "code",
   "execution_count": 1,
   "id": "07f9eadd",
   "metadata": {},
   "outputs": [],
   "source": [
    "import pandas as pd\n",
    "import seaborn as sns"
   ]
  },
  {
   "cell_type": "code",
   "execution_count": 2,
   "id": "99421ff0",
   "metadata": {},
   "outputs": [
    {
     "data": {
      "text/html": [
       "<div>\n",
       "<style scoped>\n",
       "    .dataframe tbody tr th:only-of-type {\n",
       "        vertical-align: middle;\n",
       "    }\n",
       "\n",
       "    .dataframe tbody tr th {\n",
       "        vertical-align: top;\n",
       "    }\n",
       "\n",
       "    .dataframe thead th {\n",
       "        text-align: right;\n",
       "    }\n",
       "</style>\n",
       "<table border=\"1\" class=\"dataframe\">\n",
       "  <thead>\n",
       "    <tr style=\"text-align: right;\">\n",
       "      <th></th>\n",
       "      <th>Entry</th>\n",
       "      <th>TicketClass</th>\n",
       "      <th>Sex</th>\n",
       "      <th>Age</th>\n",
       "      <th>Price</th>\n",
       "      <th>Order</th>\n",
       "      <th>Name</th>\n",
       "      <th>Ticket Number</th>\n",
       "      <th>Bank Balance</th>\n",
       "    </tr>\n",
       "  </thead>\n",
       "  <tbody>\n",
       "    <tr>\n",
       "      <th>0</th>\n",
       "      <td>0</td>\n",
       "      <td>3</td>\n",
       "      <td>male</td>\n",
       "      <td>22.0</td>\n",
       "      <td>7</td>\n",
       "      <td>1</td>\n",
       "      <td>Braund, Mr. Owen Harris</td>\n",
       "      <td>648155</td>\n",
       "      <td>74389</td>\n",
       "    </tr>\n",
       "    <tr>\n",
       "      <th>1</th>\n",
       "      <td>1</td>\n",
       "      <td>1</td>\n",
       "      <td>female</td>\n",
       "      <td>38.0</td>\n",
       "      <td>71</td>\n",
       "      <td>2</td>\n",
       "      <td>Cumings, Mrs. John Bradley (Florence Briggs Th...</td>\n",
       "      <td>119239</td>\n",
       "      <td>94932</td>\n",
       "    </tr>\n",
       "    <tr>\n",
       "      <th>2</th>\n",
       "      <td>1</td>\n",
       "      <td>3</td>\n",
       "      <td>female</td>\n",
       "      <td>26.0</td>\n",
       "      <td>8</td>\n",
       "      <td>3</td>\n",
       "      <td>Heikkinen, Miss. Laina</td>\n",
       "      <td>411408</td>\n",
       "      <td>26146</td>\n",
       "    </tr>\n",
       "    <tr>\n",
       "      <th>3</th>\n",
       "      <td>1</td>\n",
       "      <td>1</td>\n",
       "      <td>female</td>\n",
       "      <td>35.0</td>\n",
       "      <td>53</td>\n",
       "      <td>4</td>\n",
       "      <td>Futrelle, Mrs. Jacques Heath (Lily May Peel)</td>\n",
       "      <td>530093</td>\n",
       "      <td>35627</td>\n",
       "    </tr>\n",
       "    <tr>\n",
       "      <th>4</th>\n",
       "      <td>0</td>\n",
       "      <td>3</td>\n",
       "      <td>male</td>\n",
       "      <td>35.0</td>\n",
       "      <td>8</td>\n",
       "      <td>5</td>\n",
       "      <td>Allen, Mr. William Henry</td>\n",
       "      <td>510583</td>\n",
       "      <td>60457</td>\n",
       "    </tr>\n",
       "  </tbody>\n",
       "</table>\n",
       "</div>"
      ],
      "text/plain": [
       "   Entry  TicketClass     Sex   Age  Price  Order  \\\n",
       "0      0            3    male  22.0      7      1   \n",
       "1      1            1  female  38.0     71      2   \n",
       "2      1            3  female  26.0      8      3   \n",
       "3      1            1  female  35.0     53      4   \n",
       "4      0            3    male  35.0      8      5   \n",
       "\n",
       "                                                Name  Ticket Number  \\\n",
       "0                            Braund, Mr. Owen Harris         648155   \n",
       "1  Cumings, Mrs. John Bradley (Florence Briggs Th...         119239   \n",
       "2                             Heikkinen, Miss. Laina         411408   \n",
       "3       Futrelle, Mrs. Jacques Heath (Lily May Peel)         530093   \n",
       "4                           Allen, Mr. William Henry         510583   \n",
       "\n",
       "   Bank Balance  \n",
       "0         74389  \n",
       "1         94932  \n",
       "2         26146  \n",
       "3         35627  \n",
       "4         60457  "
      ]
     },
     "execution_count": 2,
     "metadata": {},
     "output_type": "execute_result"
    }
   ],
   "source": [
    "event = pd.read_csv('/Users/qinyiqiu/Downloads/Event_entry.csv')\n",
    "event.head()"
   ]
  },
  {
   "cell_type": "code",
   "execution_count": 3,
   "id": "547b3427",
   "metadata": {},
   "outputs": [
    {
     "name": "stdout",
     "output_type": "stream",
     "text": [
      "<class 'pandas.core.frame.DataFrame'>\n",
      "RangeIndex: 869 entries, 0 to 868\n",
      "Data columns (total 9 columns):\n",
      " #   Column         Non-Null Count  Dtype  \n",
      "---  ------         --------------  -----  \n",
      " 0   Entry          869 non-null    int64  \n",
      " 1   TicketClass    869 non-null    int64  \n",
      " 2   Sex            869 non-null    object \n",
      " 3   Age            694 non-null    float64\n",
      " 4   Price          869 non-null    int64  \n",
      " 5   Order          869 non-null    int64  \n",
      " 6   Name           869 non-null    object \n",
      " 7   Ticket Number  869 non-null    int64  \n",
      " 8   Bank Balance   869 non-null    int64  \n",
      "dtypes: float64(1), int64(6), object(2)\n",
      "memory usage: 61.2+ KB\n"
     ]
    }
   ],
   "source": [
    "event.info()"
   ]
  },
  {
   "cell_type": "markdown",
   "id": "76b7dd43",
   "metadata": {},
   "source": [
    "#### Bar chart or ticket class\n",
    "we can see from the bar chart that ticket class is a categorical variables that include three difference categories. Ticket three has the highest frequencies. Ticket 1 and 2 has the similar frequencies and ticket 1 has a little bit higher frequencies than ticket 2."
   ]
  },
  {
   "cell_type": "code",
   "execution_count": 4,
   "id": "e4f443bc",
   "metadata": {},
   "outputs": [
    {
     "data": {
      "text/plain": [
       "<AxesSubplot:xlabel='TicketClass', ylabel='count'>"
      ]
     },
     "execution_count": 4,
     "metadata": {},
     "output_type": "execute_result"
    },
    {
     "data": {
      "image/png": "[encoded data removed]",
      "text/plain": [
       "<Figure size 432x288 with 1 Axes>"
      ]
     },
     "metadata": {
      "needs_background": "light"
     },
     "output_type": "display_data"
    }
   ],
   "source": [
    "#barchart for ticket class\n",
    "sns.countplot(x=event['TicketClass'], data=event)"
   ]
  },
  {
   "cell_type": "markdown",
   "id": "ccad3929",
   "metadata": {},
   "source": [
    "#### barchart for gender of the event\n",
    "We can see from the table that most of the people are male, about 600, and only about 300 female. This may imply that male are more likely to buy ticket than female."
   ]
  },
  {
   "cell_type": "code",
   "execution_count": 5,
   "id": "7772b843",
   "metadata": {},
   "outputs": [
    {
     "data": {
      "text/plain": [
       "<AxesSubplot:xlabel='Sex', ylabel='count'>"
      ]
     },
     "execution_count": 5,
     "metadata": {},
     "output_type": "execute_result"
    },
    {
     "data": {
      "image/png": "[encoded data removed]",
      "text/plain": [
       "<Figure size 432x288 with 1 Axes>"
      ]
     },
     "metadata": {
      "needs_background": "light"
     },
     "output_type": "display_data"
    }
   ],
   "source": [
    "#barchart for gender\n",
    "sns.countplot(x=event['Sex'])"
   ]
  },
  {
   "cell_type": "markdown",
   "id": "aff03956",
   "metadata": {},
   "source": [
    "#### histogram for age\n",
    "We can see the distribution of the age for all customer. The distribution is non normality and it skews to the right. That means most the the customer are in age about 20s to 30s. This implies that as the age increase less people are likely to buy the ticket."
   ]
  },
  {
   "cell_type": "code",
   "execution_count": 6,
   "id": "df5c9da1",
   "metadata": {},
   "outputs": [
    {
     "data": {
      "text/plain": [
       "<AxesSubplot:xlabel='Age', ylabel='Count'>"
      ]
     },
     "execution_count": 6,
     "metadata": {},
     "output_type": "execute_result"
    },
    {
     "data": {
      "image/png": "[encoded data removed]",
      "text/plain": [
       "<Figure size 432x288 with 1 Axes>"
      ]
     },
     "metadata": {
      "needs_background": "light"
     },
     "output_type": "display_data"
    }
   ],
   "source": [
    "#histogram for age\n",
    "sns.histplot(x=event['Age'])"
   ]
  },
  {
   "cell_type": "markdown",
   "id": "d6355e43",
   "metadata": {},
   "source": [
    "#### Box plot for price\n",
    "We drew box plot about price for both entry equal 1 and entry equal 0. We can. see the price distribution for entry. When entry equal 0, the range of the price is slightly smaller than when entry equal to 1. However, the distribution of the price for both entry equal to 0 and 1 are similar, most of the price concentrate in 0 to 100. So this boxplot implies that price may not be a significant element to classify entry 0 and 1."
   ]
  },
  {
   "cell_type": "code",
   "execution_count": 7,
   "id": "9a4d46da",
   "metadata": {},
   "outputs": [
    {
     "data": {
      "text/plain": [
       "<AxesSubplot:xlabel='Entry', ylabel='Price'>"
      ]
     },
     "execution_count": 7,
     "metadata": {},
     "output_type": "execute_result"
    },
    {
     "data": {
      "image/png": "[encoded data removed]",
      "text/plain": [
       "<Figure size 432x288 with 1 Axes>"
      ]
     },
     "metadata": {
      "needs_background": "light"
     },
     "output_type": "display_data"
    }
   ],
   "source": [
    "#boxplot for price\n",
    "sns.boxplot(x=event['Entry'], y=event['Price'])"
   ]
  },
  {
   "cell_type": "markdown",
   "id": "5939e9c1",
   "metadata": {},
   "source": [
    "#### Boxplot for bank balance\n",
    "we plotted a graph on bank balance against entry level. The distribution of the bank balance of customer are similar in both entry equal to 0 and 1. The range of them are relative the same. This imples that bank balance may not a element that lead to huge impact on entry level difference."
   ]
  },
  {
   "cell_type": "code",
   "execution_count": 8,
   "id": "49cd48d9",
   "metadata": {},
   "outputs": [
    {
     "data": {
      "text/plain": [
       "<AxesSubplot:xlabel='Entry', ylabel='Bank Balance'>"
      ]
     },
     "execution_count": 8,
     "metadata": {},
     "output_type": "execute_result"
    },
    {
     "data": {
      "image/png": "[encoded data removed]",
      "text/plain": [
       "<Figure size 432x288 with 1 Axes>"
      ]
     },
     "metadata": {
      "needs_background": "light"
     },
     "output_type": "display_data"
    }
   ],
   "source": [
    "##boxplot for bank balance\n",
    "sns.boxplot(x=event['Entry'], y=event['Bank Balance'])"
   ]
  },
  {
   "cell_type": "markdown",
   "id": "e1ecf325",
   "metadata": {},
   "source": [
    "### Part 2 PCA Analysis\n",
    "\n",
    "In this question, we first checked if we hace any missing values in out dataset and we filled all the missing values in age in mean age. Then we encoded our gender variable into dummy variable and scaled it. Since we found the name is unique variable and it won't provide any useful information in prediction, we dropped the variable.\n",
    "\n",
    "In logistic regressio, we got accuacy for out of sample about 81%. \n",
    "\n",
    "In PCA, we first plotted tha explained variance ratio plot to see how many variances are explained by each components. The explained variance graph shows that the component 0 has the highest explained variance ratio. Which means it explained the most variance in the dataset compared to the other principal components. And the explained variance ratio decreasing gradually, which is component 0 has the highest explained variance ratio, and the sixth principal components has the lowest explained variance ratio. According to our calculation, the first two principal components explained about 41% variance. For pca including first 4 components, they explained about 70% variance. For pca including first 6 components, they explained about 94%. Hence, as we including more principal components, we will explained more variance in our dataset. Hence, when we plot our dataset using pca in logistic regression, for accuracy by using pca6 should higher than pca4 and the accuracy by using pca4 is higher than pca2. We got about 77% for pca2, 78% for pca4, and 80% accuracy for pca 6.\n",
    "\n",
    "In Lasso, we got out of sample accuracy about 82%.\n",
    "\n",
    "In conclusion, in our dataset, lasso regression does the best prediction on classifying entry level by using our predictions."
   ]
  },
  {
   "cell_type": "code",
   "execution_count": 9,
   "id": "2cf6d029",
   "metadata": {},
   "outputs": [
    {
     "data": {
      "text/plain": [
       "Entry              0\n",
       "TicketClass        0\n",
       "Sex                0\n",
       "Age              175\n",
       "Price              0\n",
       "Order              0\n",
       "Name               0\n",
       "Ticket Number      0\n",
       "Bank Balance       0\n",
       "dtype: int64"
      ]
     },
     "execution_count": 9,
     "metadata": {},
     "output_type": "execute_result"
    }
   ],
   "source": [
    "#check missing values\n",
    "event.isnull().sum()"
   ]
  },
  {
   "cell_type": "code",
   "execution_count": 10,
   "id": "badbdee6",
   "metadata": {},
   "outputs": [
    {
     "data": {
      "text/plain": [
       "Entry            0\n",
       "TicketClass      0\n",
       "Sex              0\n",
       "Age              0\n",
       "Price            0\n",
       "Order            0\n",
       "Name             0\n",
       "Ticket Number    0\n",
       "Bank Balance     0\n",
       "dtype: int64"
      ]
     },
     "execution_count": 10,
     "metadata": {},
     "output_type": "execute_result"
    }
   ],
   "source": [
    "#replace missing values with mean value\n",
    "age_mean = event['Age'].mean()\n",
    "event['Age'].fillna(age_mean, inplace=True)\n",
    "event.isnull().sum()"
   ]
  },
  {
   "cell_type": "code",
   "execution_count": 11,
   "id": "519b4471",
   "metadata": {},
   "outputs": [
    {
     "data": {
      "text/html": [
       "<div>\n",
       "<style scoped>\n",
       "    .dataframe tbody tr th:only-of-type {\n",
       "        vertical-align: middle;\n",
       "    }\n",
       "\n",
       "    .dataframe tbody tr th {\n",
       "        vertical-align: top;\n",
       "    }\n",
       "\n",
       "    .dataframe thead th {\n",
       "        text-align: right;\n",
       "    }\n",
       "</style>\n",
       "<table border=\"1\" class=\"dataframe\">\n",
       "  <thead>\n",
       "    <tr style=\"text-align: right;\">\n",
       "      <th></th>\n",
       "      <th>TicketClass</th>\n",
       "      <th>Sex</th>\n",
       "      <th>Age</th>\n",
       "      <th>Price</th>\n",
       "      <th>Order</th>\n",
       "      <th>Ticket Number</th>\n",
       "      <th>Bank Balance</th>\n",
       "    </tr>\n",
       "  </thead>\n",
       "  <tbody>\n",
       "    <tr>\n",
       "      <th>0</th>\n",
       "      <td>0.815681</td>\n",
       "      <td>0.730901</td>\n",
       "      <td>-0.593664</td>\n",
       "      <td>-0.494147</td>\n",
       "      <td>-0.569522</td>\n",
       "      <td>1.133005</td>\n",
       "      <td>1.706283</td>\n",
       "    </tr>\n",
       "    <tr>\n",
       "      <th>1</th>\n",
       "      <td>-1.566245</td>\n",
       "      <td>0.730901</td>\n",
       "      <td>1.631128</td>\n",
       "      <td>-0.112623</td>\n",
       "      <td>1.674701</td>\n",
       "      <td>0.353467</td>\n",
       "      <td>0.143971</td>\n",
       "    </tr>\n",
       "    <tr>\n",
       "      <th>2</th>\n",
       "      <td>-0.375282</td>\n",
       "      <td>0.730901</td>\n",
       "      <td>-0.900532</td>\n",
       "      <td>0.831149</td>\n",
       "      <td>-0.183673</td>\n",
       "      <td>1.245035</td>\n",
       "      <td>1.339336</td>\n",
       "    </tr>\n",
       "    <tr>\n",
       "      <th>3</th>\n",
       "      <td>0.815681</td>\n",
       "      <td>-1.368174</td>\n",
       "      <td>0.863958</td>\n",
       "      <td>0.148420</td>\n",
       "      <td>0.812447</td>\n",
       "      <td>-1.362429</td>\n",
       "      <td>-0.148514</td>\n",
       "    </tr>\n",
       "    <tr>\n",
       "      <th>4</th>\n",
       "      <td>0.815681</td>\n",
       "      <td>0.730901</td>\n",
       "      <td>-0.000471</td>\n",
       "      <td>-0.494147</td>\n",
       "      <td>0.107682</td>\n",
       "      <td>-0.950509</td>\n",
       "      <td>-1.658663</td>\n",
       "    </tr>\n",
       "    <tr>\n",
       "      <th>...</th>\n",
       "      <td>...</td>\n",
       "      <td>...</td>\n",
       "      <td>...</td>\n",
       "      <td>...</td>\n",
       "      <td>...</td>\n",
       "      <td>...</td>\n",
       "      <td>...</td>\n",
       "    </tr>\n",
       "    <tr>\n",
       "      <th>690</th>\n",
       "      <td>-0.375282</td>\n",
       "      <td>-1.368174</td>\n",
       "      <td>1.170826</td>\n",
       "      <td>-0.132703</td>\n",
       "      <td>0.032874</td>\n",
       "      <td>-0.810363</td>\n",
       "      <td>-0.324992</td>\n",
       "    </tr>\n",
       "    <tr>\n",
       "      <th>691</th>\n",
       "      <td>0.815681</td>\n",
       "      <td>0.730901</td>\n",
       "      <td>-1.590984</td>\n",
       "      <td>-0.233104</td>\n",
       "      <td>-1.049865</td>\n",
       "      <td>1.608068</td>\n",
       "      <td>0.918807</td>\n",
       "    </tr>\n",
       "    <tr>\n",
       "      <th>692</th>\n",
       "      <td>0.815681</td>\n",
       "      <td>0.730901</td>\n",
       "      <td>-2.128003</td>\n",
       "      <td>-0.233104</td>\n",
       "      <td>-1.671948</td>\n",
       "      <td>-0.585333</td>\n",
       "      <td>0.529844</td>\n",
       "    </tr>\n",
       "    <tr>\n",
       "      <th>693</th>\n",
       "      <td>-0.375282</td>\n",
       "      <td>0.730901</td>\n",
       "      <td>0.020072</td>\n",
       "      <td>-0.433907</td>\n",
       "      <td>-0.837254</td>\n",
       "      <td>-1.491371</td>\n",
       "      <td>-1.077173</td>\n",
       "    </tr>\n",
       "    <tr>\n",
       "      <th>694</th>\n",
       "      <td>0.815681</td>\n",
       "      <td>0.730901</td>\n",
       "      <td>2.398297</td>\n",
       "      <td>-0.534308</td>\n",
       "      <td>-0.415970</td>\n",
       "      <td>-0.974831</td>\n",
       "      <td>-0.324672</td>\n",
       "    </tr>\n",
       "  </tbody>\n",
       "</table>\n",
       "<p>695 rows × 7 columns</p>\n",
       "</div>"
      ],
      "text/plain": [
       "     TicketClass       Sex       Age     Price     Order  Ticket Number  \\\n",
       "0       0.815681  0.730901 -0.593664 -0.494147 -0.569522       1.133005   \n",
       "1      -1.566245  0.730901  1.631128 -0.112623  1.674701       0.353467   \n",
       "2      -0.375282  0.730901 -0.900532  0.831149 -0.183673       1.245035   \n",
       "3       0.815681 -1.368174  0.863958  0.148420  0.812447      -1.362429   \n",
       "4       0.815681  0.730901 -0.000471 -0.494147  0.107682      -0.950509   \n",
       "..           ...       ...       ...       ...       ...            ...   \n",
       "690    -0.375282 -1.368174  1.170826 -0.132703  0.032874      -0.810363   \n",
       "691     0.815681  0.730901 -1.590984 -0.233104 -1.049865       1.608068   \n",
       "692     0.815681  0.730901 -2.128003 -0.233104 -1.671948      -0.585333   \n",
       "693    -0.375282  0.730901  0.020072 -0.433907 -0.837254      -1.491371   \n",
       "694     0.815681  0.730901  2.398297 -0.534308 -0.415970      -0.974831   \n",
       "\n",
       "     Bank Balance  \n",
       "0        1.706283  \n",
       "1        0.143971  \n",
       "2        1.339336  \n",
       "3       -0.148514  \n",
       "4       -1.658663  \n",
       "..            ...  \n",
       "690     -0.324992  \n",
       "691      0.918807  \n",
       "692      0.529844  \n",
       "693     -1.077173  \n",
       "694     -0.324672  \n",
       "\n",
       "[695 rows x 7 columns]"
      ]
     },
     "execution_count": 11,
     "metadata": {},
     "output_type": "execute_result"
    }
   ],
   "source": [
    "#encode variables and split into train and test\n",
    "from sklearn.model_selection import train_test_split\n",
    "from sklearn.linear_model import LogisticRegression\n",
    "from sklearn.metrics import accuracy_score\n",
    "from sklearn.preprocessing import StandardScaler\n",
    "scaler = StandardScaler()\n",
    "\n",
    "event['Sex'] = event['Sex'].map({'male': 1, 'female': 0})\n",
    "\n",
    "train_df, test_df = train_test_split(event, test_size=0.2, random_state=40)\n",
    "X_train_unscale = train_df.drop(['Name','Entry'],axis=1)\n",
    "X_train = pd.DataFrame(scaler.fit_transform(X_train_unscale), columns=X_train_unscale.columns)\n",
    "y_train = train_df['Entry']\n",
    "X_test_unscale = test_df.drop(['Name','Entry'],axis=1)\n",
    "X_test = pd.DataFrame(scaler.transform(X_test_unscale), columns=X_test_unscale.columns)\n",
    "y_test = test_df['Entry']\n",
    "X_train"
   ]
  },
  {
   "cell_type": "markdown",
   "id": "c2014c69",
   "metadata": {},
   "source": [
    "#### logistic model"
   ]
  },
  {
   "cell_type": "code",
   "execution_count": 12,
   "id": "0a63feec",
   "metadata": {},
   "outputs": [
    {
     "data": {
      "text/plain": [
       "array([[-0.97987888, -1.23899472, -0.41387862,  0.01851689,  0.0097499 ,\n",
       "        -0.17483582,  0.09583772]])"
      ]
     },
     "execution_count": 12,
     "metadata": {},
     "output_type": "execute_result"
    }
   ],
   "source": [
    "Logimodel = LogisticRegression()\n",
    "Logimodel.fit(X_train, y_train).coef_"
   ]
  },
  {
   "cell_type": "code",
   "execution_count": 13,
   "id": "cf5fea4a",
   "metadata": {},
   "outputs": [
    {
     "data": {
      "text/plain": [
       "0.8160919540229885"
      ]
     },
     "execution_count": 13,
     "metadata": {},
     "output_type": "execute_result"
    }
   ],
   "source": [
    "predictions = Logimodel.predict(X_test)\n",
    "accuracy = accuracy_score(y_test, predictions)\n",
    "accuracy"
   ]
  },
  {
   "cell_type": "markdown",
   "id": "f57ab6fd",
   "metadata": {},
   "source": [
    "#### PCA"
   ]
  },
  {
   "cell_type": "code",
   "execution_count": 14,
   "id": "7991ba17",
   "metadata": {},
   "outputs": [
    {
     "data": {
      "image/png": "[encoded data removed]",
      "text/plain": [
       "<Figure size 432x288 with 1 Axes>"
      ]
     },
     "metadata": {
      "needs_background": "light"
     },
     "output_type": "display_data"
    }
   ],
   "source": [
    "from sklearn.decomposition import PCA\n",
    "import matplotlib.pyplot as plt\n",
    "pca = PCA()\n",
    "X_train_pca=pca.fit_transform(X_train)\n",
    "X_test_pca=pca.transform(X_test)\n",
    "\n",
    "explained_variance=pca.explained_variance_ratio_\n",
    "plt.figure(figsize=(6, 4))\n",
    "\n",
    "plt.bar(range(len(explained_variance)), explained_variance, alpha=0.5, align='center',\n",
    "        label='individual explained variance')\n",
    "plt.ylabel('Explained variance ratio')\n",
    "plt.xlabel('Principal components')\n",
    "plt.legend(loc='best')\n",
    "plt.tight_layout()"
   ]
  },
  {
   "cell_type": "code",
   "execution_count": 15,
   "id": "60988aef",
   "metadata": {},
   "outputs": [
    {
     "data": {
      "text/plain": [
       "0.41265672922710506"
      ]
     },
     "execution_count": 15,
     "metadata": {},
     "output_type": "execute_result"
    }
   ],
   "source": [
    "#for pca 2\n",
    "explained_variance[0]+explained_variance[1]"
   ]
  },
  {
   "cell_type": "code",
   "execution_count": 16,
   "id": "f50d3714",
   "metadata": {},
   "outputs": [
    {
     "data": {
      "text/plain": [
       "0.7061127654529648"
      ]
     },
     "execution_count": 16,
     "metadata": {},
     "output_type": "execute_result"
    }
   ],
   "source": [
    "#for pca 4\n",
    "explained_variance[0]+explained_variance[1]+explained_variance[2]+explained_variance[3]"
   ]
  },
  {
   "cell_type": "code",
   "execution_count": 17,
   "id": "9ddb5be7",
   "metadata": {},
   "outputs": [
    {
     "data": {
      "text/plain": [
       "0.9461628707276738"
      ]
     },
     "execution_count": 17,
     "metadata": {},
     "output_type": "execute_result"
    }
   ],
   "source": [
    "#for pca 6\n",
    "explained_variance[0]+explained_variance[1]+explained_variance[2]+explained_variance[3]+explained_variance[4]+explained_variance[5]"
   ]
  },
  {
   "cell_type": "code",
   "execution_count": 18,
   "id": "d1a32868",
   "metadata": {},
   "outputs": [],
   "source": [
    "pca_2 = PCA(n_components=2)\n",
    "pca_4 = PCA(n_components=4)\n",
    "pca_6 = PCA(n_components=6)\n",
    "\n",
    "X_train_pca_2 = pca_2.fit_transform(X_train)\n",
    "X_test_pca_2 = pca_2.transform(X_test)\n",
    "\n",
    "X_train_pca_4 = pca_4.fit_transform(X_train)\n",
    "X_test_pca_4 = pca_4.transform(X_test)\n",
    "\n",
    "X_train_pca_6 = pca_6.fit_transform(X_train)\n",
    "X_test_pca_6 = pca_6.transform(X_test)"
   ]
  },
  {
   "cell_type": "code",
   "execution_count": 19,
   "id": "2502e180",
   "metadata": {},
   "outputs": [
    {
     "name": "stdout",
     "output_type": "stream",
     "text": [
      "The accuracy for pca2 is:0.7701149425287356\n",
      "The accuracy for pca4 is:0.7816091954022989\n",
      "The accuracy for pca6 is:0.8045977011494253\n"
     ]
    }
   ],
   "source": [
    "from sklearn.metrics import mean_squared_error, r2_score\n",
    "Logimodel = LogisticRegression()\n",
    "#pca 2\n",
    "Logimodel.fit(X_train_pca_2, y_train)\n",
    "predictions2 = Logimodel.predict(X_test_pca_2)\n",
    "accuracy2 = accuracy_score(y_test, predictions2)\n",
    "accuracy2\n",
    "print(f'The accuracy for pca2 is:{accuracy2}')\n",
    "#pca 4\n",
    "Logimodel.fit(X_train_pca_4, y_train)\n",
    "predictions4 = Logimodel.predict(X_test_pca_4)\n",
    "accuracy4 = accuracy_score(y_test, predictions4)\n",
    "accuracy4\n",
    "print(f'The accuracy for pca4 is:{accuracy4}')\n",
    "\n",
    "#pca 6\n",
    "Logimodel.fit(X_train_pca_6, y_train)\n",
    "predictions6 = Logimodel.predict(X_test_pca_6)\n",
    "accuracy6 = accuracy_score(y_test, predictions6)\n",
    "accuracy6\n",
    "print(f'The accuracy for pca6 is:{accuracy6}')"
   ]
  },
  {
   "cell_type": "markdown",
   "id": "2b9e4eca",
   "metadata": {},
   "source": [
    "#### Lasso Model"
   ]
  },
  {
   "cell_type": "code",
   "execution_count": 20,
   "id": "ba3f52de",
   "metadata": {},
   "outputs": [
    {
     "name": "stdout",
     "output_type": "stream",
     "text": [
      "The accuracy for pca6 is:0.8218390804597702\n"
     ]
    }
   ],
   "source": [
    "lassomodel = LogisticRegression(penalty='l1', C=1.0, solver='liblinear', max_iter=10000)\n",
    "lassomodel.fit(X_train, y_train)\n",
    "y_pred_lasso = lassomodel.predict(X_test)\n",
    "lasso_accuracy = accuracy_score(y_test, y_pred_lasso)\n",
    "print(f'The accuracy for pca6 is:{lasso_accuracy}')"
   ]
  },
  {
   "cell_type": "markdown",
   "id": "5402dcfc",
   "metadata": {},
   "source": [
    "### Part 3 Decision Tree Analysis\n",
    "In this question, we dropped order and ticket number since both this variables are unique, and they don't provide any useful information on classifying. And they cannot be classified. Then we fit our dataset into decision trees with a maximum depth of 3. The model achieved an accuracy of approximately 83.9% on the test data. The mean squared error was approximately 0.1609. the model performed well in terms of accuracy for a classification task."
   ]
  },
  {
   "cell_type": "code",
   "execution_count": 21,
   "id": "c2b97f6e",
   "metadata": {},
   "outputs": [
    {
     "data": {
      "text/html": [
       "<div>\n",
       "<style scoped>\n",
       "    .dataframe tbody tr th:only-of-type {\n",
       "        vertical-align: middle;\n",
       "    }\n",
       "\n",
       "    .dataframe tbody tr th {\n",
       "        vertical-align: top;\n",
       "    }\n",
       "\n",
       "    .dataframe thead th {\n",
       "        text-align: right;\n",
       "    }\n",
       "</style>\n",
       "<table border=\"1\" class=\"dataframe\">\n",
       "  <thead>\n",
       "    <tr style=\"text-align: right;\">\n",
       "      <th></th>\n",
       "      <th>TicketClass</th>\n",
       "      <th>Sex</th>\n",
       "      <th>Age</th>\n",
       "      <th>Price</th>\n",
       "      <th>Bank Balance</th>\n",
       "    </tr>\n",
       "  </thead>\n",
       "  <tbody>\n",
       "    <tr>\n",
       "      <th>0</th>\n",
       "      <td>0.815681</td>\n",
       "      <td>0.730901</td>\n",
       "      <td>-0.593664</td>\n",
       "      <td>-0.494147</td>\n",
       "      <td>1.706283</td>\n",
       "    </tr>\n",
       "    <tr>\n",
       "      <th>1</th>\n",
       "      <td>-1.566245</td>\n",
       "      <td>0.730901</td>\n",
       "      <td>1.631128</td>\n",
       "      <td>-0.112623</td>\n",
       "      <td>0.143971</td>\n",
       "    </tr>\n",
       "    <tr>\n",
       "      <th>2</th>\n",
       "      <td>-0.375282</td>\n",
       "      <td>0.730901</td>\n",
       "      <td>-0.900532</td>\n",
       "      <td>0.831149</td>\n",
       "      <td>1.339336</td>\n",
       "    </tr>\n",
       "    <tr>\n",
       "      <th>3</th>\n",
       "      <td>0.815681</td>\n",
       "      <td>-1.368174</td>\n",
       "      <td>0.863958</td>\n",
       "      <td>0.148420</td>\n",
       "      <td>-0.148514</td>\n",
       "    </tr>\n",
       "    <tr>\n",
       "      <th>4</th>\n",
       "      <td>0.815681</td>\n",
       "      <td>0.730901</td>\n",
       "      <td>-0.000471</td>\n",
       "      <td>-0.494147</td>\n",
       "      <td>-1.658663</td>\n",
       "    </tr>\n",
       "  </tbody>\n",
       "</table>\n",
       "</div>"
      ],
      "text/plain": [
       "   TicketClass       Sex       Age     Price  Bank Balance\n",
       "0     0.815681  0.730901 -0.593664 -0.494147      1.706283\n",
       "1    -1.566245  0.730901  1.631128 -0.112623      0.143971\n",
       "2    -0.375282  0.730901 -0.900532  0.831149      1.339336\n",
       "3     0.815681 -1.368174  0.863958  0.148420     -0.148514\n",
       "4     0.815681  0.730901 -0.000471 -0.494147     -1.658663"
      ]
     },
     "execution_count": 21,
     "metadata": {},
     "output_type": "execute_result"
    }
   ],
   "source": [
    "# drop unnecessary column: Ticket number and Order\n",
    "X_train_tree = X_train.drop(['Order','Ticket Number'],axis=1)\n",
    "X_test_tree = X_test.drop(['Order','Ticket Number'],axis=1)\n",
    "X_train_tree.head()"
   ]
  },
  {
   "cell_type": "code",
   "execution_count": 22,
   "id": "e142ba72",
   "metadata": {},
   "outputs": [
    {
     "name": "stdout",
     "output_type": "stream",
     "text": [
      "The mse for Decision Tree is:0.16091954022988506\n",
      "The accuracy for Decision Tree is:0.8390804597701149\n"
     ]
    }
   ],
   "source": [
    "from sklearn.tree import DecisionTreeClassifier\n",
    "from sklearn.metrics import mean_squared_error\n",
    "Decisiontree = DecisionTreeClassifier(max_depth=3) \n",
    "Decisiontree.fit(X_train_tree, y_train)\n",
    "predictions_tree = Decisiontree.predict(X_test_tree)\n",
    "mse = mean_squared_error(y_test, predictions_tree)\n",
    "print(f'The mse for Decision Tree is:{mse}')\n",
    "accuracy_tree = accuracy_score(y_test, predictions_tree)\n",
    "print(f'The accuracy for Decision Tree is:{accuracy_tree}')"
   ]
  },
  {
   "cell_type": "markdown",
   "id": "8a9c4234",
   "metadata": {},
   "source": [
    "### Part 4 K means\n",
    "In this question, we use K means to classify our entry level. We only use age and price to predict. First, we tried to find out what K values is better to use in our dataset. So we tried 20 K and ploted Elbow graph. From the Elbow plot we can see the slop is decreasing. for the first three points they dramactically decrease the number of clusters so we choosed k=3 in our k means model. With K=3, our k means model claffied 3 clusters as we can see in our plot."
   ]
  },
  {
   "cell_type": "code",
   "execution_count": 23,
   "id": "b6013c8a",
   "metadata": {},
   "outputs": [
    {
     "data": {
      "text/html": [
       "<div>\n",
       "<style scoped>\n",
       "    .dataframe tbody tr th:only-of-type {\n",
       "        vertical-align: middle;\n",
       "    }\n",
       "\n",
       "    .dataframe tbody tr th {\n",
       "        vertical-align: top;\n",
       "    }\n",
       "\n",
       "    .dataframe thead th {\n",
       "        text-align: right;\n",
       "    }\n",
       "</style>\n",
       "<table border=\"1\" class=\"dataframe\">\n",
       "  <thead>\n",
       "    <tr style=\"text-align: right;\">\n",
       "      <th></th>\n",
       "      <th>Age</th>\n",
       "      <th>Price</th>\n",
       "    </tr>\n",
       "  </thead>\n",
       "  <tbody>\n",
       "    <tr>\n",
       "      <th>0</th>\n",
       "      <td>-0.593664</td>\n",
       "      <td>-0.494147</td>\n",
       "    </tr>\n",
       "    <tr>\n",
       "      <th>1</th>\n",
       "      <td>1.631128</td>\n",
       "      <td>-0.112623</td>\n",
       "    </tr>\n",
       "    <tr>\n",
       "      <th>2</th>\n",
       "      <td>-0.900532</td>\n",
       "      <td>0.831149</td>\n",
       "    </tr>\n",
       "    <tr>\n",
       "      <th>3</th>\n",
       "      <td>0.863958</td>\n",
       "      <td>0.148420</td>\n",
       "    </tr>\n",
       "    <tr>\n",
       "      <th>4</th>\n",
       "      <td>-0.000471</td>\n",
       "      <td>-0.494147</td>\n",
       "    </tr>\n",
       "  </tbody>\n",
       "</table>\n",
       "</div>"
      ],
      "text/plain": [
       "        Age     Price\n",
       "0 -0.593664 -0.494147\n",
       "1  1.631128 -0.112623\n",
       "2 -0.900532  0.831149\n",
       "3  0.863958  0.148420\n",
       "4 -0.000471 -0.494147"
      ]
     },
     "execution_count": 23,
     "metadata": {},
     "output_type": "execute_result"
    }
   ],
   "source": [
    "#use the Age and Price columns only\n",
    "train_K = X_train[['Age','Price']]\n",
    "train_K.head()"
   ]
  },
  {
   "cell_type": "code",
   "execution_count": 24,
   "id": "25c5c9c3",
   "metadata": {},
   "outputs": [
    {
     "name": "stdout",
     "output_type": "stream",
     "text": [
      "Within cluster sum of squares for K=1 is:1390.0\n",
      "Within cluster sum of squares for K=2 is:932.0364502784073\n",
      "Within cluster sum of squares for K=3 is:567.204786865359\n",
      "Within cluster sum of squares for K=4 is:404.757091852232\n",
      "Within cluster sum of squares for K=5 is:306.7352102484534\n",
      "Within cluster sum of squares for K=6 is:250.67949647023582\n",
      "Within cluster sum of squares for K=7 is:200.5520864534505\n",
      "Within cluster sum of squares for K=8 is:165.8699537602344\n",
      "Within cluster sum of squares for K=9 is:133.8997456380223\n",
      "Within cluster sum of squares for K=10 is:114.1432421782843\n",
      "Within cluster sum of squares for K=11 is:102.72526166612138\n",
      "Within cluster sum of squares for K=12 is:91.30872593492788\n",
      "Within cluster sum of squares for K=13 is:85.10165654792326\n",
      "Within cluster sum of squares for K=14 is:78.98978751135448\n",
      "Within cluster sum of squares for K=15 is:73.1766250434012\n",
      "Within cluster sum of squares for K=16 is:68.1871025414423\n",
      "Within cluster sum of squares for K=17 is:61.882439853239475\n",
      "Within cluster sum of squares for K=18 is:59.11069996229473\n",
      "Within cluster sum of squares for K=19 is:54.35751254449004\n",
      "Within cluster sum of squares for K=20 is:50.324036717871934\n"
     ]
    },
    {
     "data": {
      "image/png": "[encoded data removed]",
      "text/plain": [
       "<Figure size 576x360 with 1 Axes>"
      ]
     },
     "metadata": {
      "needs_background": "light"
     },
     "output_type": "display_data"
    }
   ],
   "source": [
    "from sklearn.cluster import KMeans\n",
    "import matplotlib.pyplot as plt\n",
    "\n",
    "K_values = range(1, 21)\n",
    "inertia_values = []\n",
    "\n",
    "for K in K_values:\n",
    "    kmeans_model = KMeans(n_clusters=K, random_state=42)\n",
    "    kmeans_model.fit(train_K)\n",
    "    inertia_values.append(kmeans_model.inertia_)\n",
    "    print(f'Within cluster sum of squares for K={K} is:{kmeans_model.inertia_}')\n",
    "\n",
    "# Plotting the elbow plot\n",
    "plt.figure(figsize=(8, 5))\n",
    "plt.plot(K_values, inertia_values, marker='o')\n",
    "plt.title('Elbow Method For Optimal K')\n",
    "plt.xlabel('Number of clusters (K)')\n",
    "plt.ylabel('Inertia')\n",
    "plt.show()\n"
   ]
  },
  {
   "cell_type": "code",
   "execution_count": 25,
   "id": "3bf2a5f1",
   "metadata": {},
   "outputs": [
    {
     "data": {
      "text/html": [
       "<div>\n",
       "<style scoped>\n",
       "    .dataframe tbody tr th:only-of-type {\n",
       "        vertical-align: middle;\n",
       "    }\n",
       "\n",
       "    .dataframe tbody tr th {\n",
       "        vertical-align: top;\n",
       "    }\n",
       "\n",
       "    .dataframe thead th {\n",
       "        text-align: right;\n",
       "    }\n",
       "</style>\n",
       "<table border=\"1\" class=\"dataframe\">\n",
       "  <thead>\n",
       "    <tr style=\"text-align: right;\">\n",
       "      <th></th>\n",
       "      <th>Age</th>\n",
       "      <th>Price</th>\n",
       "    </tr>\n",
       "  </thead>\n",
       "  <tbody>\n",
       "    <tr>\n",
       "      <th>0</th>\n",
       "      <td>-0.593664</td>\n",
       "      <td>-0.494147</td>\n",
       "    </tr>\n",
       "    <tr>\n",
       "      <th>1</th>\n",
       "      <td>1.631128</td>\n",
       "      <td>-0.112623</td>\n",
       "    </tr>\n",
       "    <tr>\n",
       "      <th>2</th>\n",
       "      <td>-0.900532</td>\n",
       "      <td>0.831149</td>\n",
       "    </tr>\n",
       "    <tr>\n",
       "      <th>3</th>\n",
       "      <td>0.863958</td>\n",
       "      <td>0.148420</td>\n",
       "    </tr>\n",
       "    <tr>\n",
       "      <th>4</th>\n",
       "      <td>-0.000471</td>\n",
       "      <td>-0.494147</td>\n",
       "    </tr>\n",
       "  </tbody>\n",
       "</table>\n",
       "</div>"
      ],
      "text/plain": [
       "        Age     Price\n",
       "0 -0.593664 -0.494147\n",
       "1  1.631128 -0.112623\n",
       "2 -0.900532  0.831149\n",
       "3  0.863958  0.148420\n",
       "4 -0.000471 -0.494147"
      ]
     },
     "execution_count": 25,
     "metadata": {},
     "output_type": "execute_result"
    }
   ],
   "source": [
    "#choosing K=3\n",
    "kmeans = KMeans(n_clusters=3, random_state=42)\n",
    "kmeans.fit(train_K)\n",
    "train_K.head()"
   ]
  },
  {
   "cell_type": "code",
   "execution_count": 26,
   "id": "508f92d8",
   "metadata": {},
   "outputs": [
    {
     "data": {
      "image/png": "[encoded data removed]",
      "text/plain": [
       "<Figure size 720x576 with 1 Axes>"
      ]
     },
     "metadata": {
      "needs_background": "light"
     },
     "output_type": "display_data"
    }
   ],
   "source": [
    "plt.figure(figsize=(10, 8))\n",
    "plt.scatter(train_K['Age'], train_K['Price'], c=kmeans.labels_, cmap='viridis')  # Color points by cluster label\n",
    "plt.xlabel('Standardized Age')\n",
    "plt.ylabel('Standardized Price')\n",
    "plt.title('Scatter Plot of K-means Clusters')\n",
    "plt.show()"
   ]
  }
 ],
 "metadata": {
  "kernelspec": {
   "display_name": "Python [conda env:root] *",
   "language": "python",
   "name": "conda-root-py"
  },
  "language_info": {
   "codemirror_mode": {
    "name": "ipython",
    "version": 3
   },
   "file_extension": ".py",
   "mimetype": "text/x-python",
   "name": "python",
   "nbconvert_exporter": "python",
   "pygments_lexer": "ipython3",
   "version": "3.9.12"
  }
 },
 "nbformat": 4,
 "nbformat_minor": 5
}
